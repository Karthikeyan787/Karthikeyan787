{
  "nbformat": 4,
  "nbformat_minor": 0,
  "metadata": {
    "colab": {
      "provenance": []
    },
    "kernelspec": {
      "name": "python3",
      "display_name": "Python 3"
    },
    "language_info": {
      "name": "python"
    }
  },
  "cells": [
    {
      "cell_type": "code",
      "execution_count": 1,
      "metadata": {
        "id": "0WX_c5jIn2j2"
      },
      "outputs": [],
      "source": [
        "import pandas as pd\n",
        "from sklearn.model_selection import train_test_split\n",
        "from sklearn.preprocessing import StandardScaler\n",
        "from sklearn.ensemble import RandomForestClassifier\n",
        "from sklearn.metrics import accuracy_score, classification_report, confusion_matrix\n"
      ]
    },
    {
      "cell_type": "code",
      "source": [
        "def kilometers_to_miles(kilometers):\n",
        "    miles = kilometers * 0.621371\n",
        "    return miles\n"
      ],
      "metadata": {
        "id": "VlEnRcVaoNa3"
      },
      "execution_count": 2,
      "outputs": []
    },
    {
      "cell_type": "code",
      "source": [],
      "metadata": {
        "id": "hu07AI56oeAF"
      },
      "execution_count": null,
      "outputs": []
    },
    {
      "cell_type": "code",
      "source": [
        "kilometers = 10\n",
        "miles = kilometers_to_miles(kilometers)\n",
        "print(f\"{kilometers} kilometers is equal to {miles} miles.\")\n"
      ],
      "metadata": {
        "colab": {
          "base_uri": "https://localhost:8080/"
        },
        "id": "nOrDvo4FoQ67",
        "outputId": "075743b9-883f-416e-a5ac-a670666626f8"
      },
      "execution_count": 3,
      "outputs": [
        {
          "output_type": "stream",
          "name": "stdout",
          "text": [
            "10 kilometers is equal to 6.21371 miles.\n"
          ]
        }
      ]
    },
    {
      "cell_type": "code",
      "source": [
        "def print_numbers_skip_multiples_of_3(start, end):\n",
        "    for num in range(start, end + 1):\n",
        "        if num % 3 == 0:\n",
        "            continue\n",
        "        print(num)\n",
        "\n",
        "\n",
        "print_numbers_skip_multiples_of_3(1, 20)\n"
      ],
      "metadata": {
        "colab": {
          "base_uri": "https://localhost:8080/"
        },
        "id": "nTiJsFKxofxS",
        "outputId": "eac1dd2a-1ab9-49cf-8431-42de85bdae01"
      },
      "execution_count": 4,
      "outputs": [
        {
          "output_type": "stream",
          "name": "stdout",
          "text": [
            "1\n",
            "2\n",
            "4\n",
            "5\n",
            "7\n",
            "8\n",
            "10\n",
            "11\n",
            "13\n",
            "14\n",
            "16\n",
            "17\n",
            "19\n",
            "20\n"
          ]
        }
      ]
    }
  ]
}